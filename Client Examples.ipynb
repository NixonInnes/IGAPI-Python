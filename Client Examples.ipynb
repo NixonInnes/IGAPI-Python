{
 "cells": [
  {
   "cell_type": "code",
   "execution_count": 1,
   "metadata": {},
   "outputs": [],
   "source": [
    "import os\n",
    "\n",
    "from igapi import IGClient"
   ]
  },
  {
   "cell_type": "code",
   "execution_count": 2,
   "metadata": {},
   "outputs": [],
   "source": [
    "if os.path.isfile('.env'):\n",
    "    from dotenv import load_dotenv\n",
    "    load_dotenv('.env')"
   ]
  },
  {
   "cell_type": "code",
   "execution_count": 3,
   "metadata": {},
   "outputs": [],
   "source": [
    "client = IGClient(os.getenv('IG_API_KEY'), os.getenv('IG_ID'), os.getenv('IG_PWD'))"
   ]
  },
  {
   "cell_type": "code",
   "execution_count": 4,
   "metadata": {},
   "outputs": [
    {
     "data": {
      "text/plain": [
       "[{'position': {'contractSize': 1.0,\n",
       "   'createdDate': '2020/05/17 04:08:44:000',\n",
       "   'createdDateUTC': '2020-05-17T03:08:44',\n",
       "   'dealId': 'DIAAAADTECPFTBD',\n",
       "   'dealReference': 'RFYD7WJ1E8G9NG1TP',\n",
       "   'size': 1.0,\n",
       "   'direction': 'BUY',\n",
       "   'limitLevel': None,\n",
       "   'level': 9524.2,\n",
       "   'currency': 'USD',\n",
       "   'controlledRisk': False,\n",
       "   'stopLevel': None,\n",
       "   'trailingStep': None,\n",
       "   'trailingStopDistance': None,\n",
       "   'limitedRiskPremium': None},\n",
       "  'market': {'instrumentName': 'Bitcoin ($1)',\n",
       "   'expiry': '-',\n",
       "   'epic': 'CS.D.BITCOIN.CFD.IP',\n",
       "   'instrumentType': 'CURRENCIES',\n",
       "   'lotSize': 1.0,\n",
       "   'high': 9801.9,\n",
       "   'low': 9592.9,\n",
       "   'percentageChange': 0.09,\n",
       "   'netChange': 9.13,\n",
       "   'bid': 9731.66,\n",
       "   'offer': 9767.66,\n",
       "   'updateTime': '01:15:17',\n",
       "   'updateTimeUTC': '00:15:17',\n",
       "   'delayTime': 0,\n",
       "   'streamingPricesAvailable': True,\n",
       "   'marketStatus': 'TRADEABLE',\n",
       "   'scalingFactor': 1},\n",
       "  'profitloss': 207.45999999999913},\n",
       " {'position': {'contractSize': 1.0,\n",
       "   'createdDate': '2020/05/17 04:16:51:000',\n",
       "   'createdDateUTC': '2020-05-17T03:16:51',\n",
       "   'dealId': 'DIAAAADTECGS7AP',\n",
       "   'dealReference': 'RFYD7WJ1E8GA4GC1R',\n",
       "   'size': 1.0,\n",
       "   'direction': 'SELL',\n",
       "   'limitLevel': None,\n",
       "   'level': 200.89,\n",
       "   'currency': 'USD',\n",
       "   'controlledRisk': False,\n",
       "   'stopLevel': None,\n",
       "   'trailingStep': None,\n",
       "   'trailingStopDistance': None,\n",
       "   'limitedRiskPremium': None},\n",
       "  'market': {'instrumentName': 'Ether ($1)',\n",
       "   'expiry': '-',\n",
       "   'epic': 'CS.D.ETHUSD.CFD.IP',\n",
       "   'instrumentType': 'CURRENCIES',\n",
       "   'lotSize': 1.0,\n",
       "   'high': 210.4,\n",
       "   'low': 205.5,\n",
       "   'percentageChange': 0.2,\n",
       "   'netChange': 0.42,\n",
       "   'bid': 207.76,\n",
       "   'offer': 208.96,\n",
       "   'updateTime': '01:15:15',\n",
       "   'updateTimeUTC': '00:15:15',\n",
       "   'delayTime': 0,\n",
       "   'streamingPricesAvailable': True,\n",
       "   'marketStatus': 'TRADEABLE',\n",
       "   'scalingFactor': 1},\n",
       "  'profitloss': -8.070000000000022}]"
      ]
     },
     "execution_count": 4,
     "metadata": {},
     "output_type": "execute_result"
    }
   ],
   "source": [
    "client.get_positions_profitloss()"
   ]
  },
  {
   "cell_type": "code",
   "execution_count": null,
   "metadata": {},
   "outputs": [],
   "source": []
  }
 ],
 "metadata": {
  "kernelspec": {
   "display_name": "Python 3",
   "language": "python",
   "name": "python3"
  },
  "language_info": {
   "codemirror_mode": {
    "name": "ipython",
    "version": 3
   },
   "file_extension": ".py",
   "mimetype": "text/x-python",
   "name": "python",
   "nbconvert_exporter": "python",
   "pygments_lexer": "ipython3",
   "version": "3.8.2"
  }
 },
 "nbformat": 4,
 "nbformat_minor": 4
}
