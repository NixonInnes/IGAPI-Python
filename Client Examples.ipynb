{
 "cells": [
  {
   "cell_type": "code",
   "execution_count": 1,
   "metadata": {},
   "outputs": [],
   "source": [
    "import os\n",
    "\n",
    "from igapi import IGClient"
   ]
  },
  {
   "cell_type": "code",
   "execution_count": 2,
   "metadata": {},
   "outputs": [
    {
     "ename": "ModuleNotFoundError",
     "evalue": "No module named 'dotenv'",
     "output_type": "error",
     "traceback": [
      "\u001b[1;31m---------------------------------------------------------------------------\u001b[0m",
      "\u001b[1;31mModuleNotFoundError\u001b[0m                       Traceback (most recent call last)",
      "\u001b[1;32m<ipython-input-2-7add57c1a1f3>\u001b[0m in \u001b[0;36m<module>\u001b[1;34m\u001b[0m\n\u001b[0;32m      1\u001b[0m \u001b[1;32mif\u001b[0m \u001b[0mos\u001b[0m\u001b[1;33m.\u001b[0m\u001b[0mpath\u001b[0m\u001b[1;33m.\u001b[0m\u001b[0misfile\u001b[0m\u001b[1;33m(\u001b[0m\u001b[1;34m'.env'\u001b[0m\u001b[1;33m)\u001b[0m\u001b[1;33m:\u001b[0m\u001b[1;33m\u001b[0m\u001b[1;33m\u001b[0m\u001b[0m\n\u001b[1;32m----> 2\u001b[1;33m     \u001b[1;32mfrom\u001b[0m \u001b[0mdotenv\u001b[0m \u001b[1;32mimport\u001b[0m \u001b[0mload_dotenv\u001b[0m\u001b[1;33m\u001b[0m\u001b[1;33m\u001b[0m\u001b[0m\n\u001b[0m\u001b[0;32m      3\u001b[0m     \u001b[0mload_dotenv\u001b[0m\u001b[1;33m(\u001b[0m\u001b[1;34m'.env'\u001b[0m\u001b[1;33m)\u001b[0m\u001b[1;33m\u001b[0m\u001b[1;33m\u001b[0m\u001b[0m\n",
      "\u001b[1;31mModuleNotFoundError\u001b[0m: No module named 'dotenv'"
     ]
    }
   ],
   "source": [
    "if os.path.isfile('.env'):\n",
    "    from dotenv import load_dotenv\n",
    "    load_dotenv('.env')"
   ]
  },
  {
   "cell_type": "code",
   "execution_count": 3,
   "metadata": {},
   "outputs": [
    {
     "data": {
      "text/plain": [
       "True"
      ]
     },
     "execution_count": 3,
     "metadata": {},
     "output_type": "execute_result"
    }
   ],
   "source": [
    "client = IGClient(os.getenv('IG_API_KEY'))\n",
    "client.login(os.getenv('IG_ID'), os.getenv('IG_PWD'))"
   ]
  },
  {
   "cell_type": "code",
   "execution_count": 8,
   "metadata": {},
   "outputs": [
    {
     "data": {
      "text/plain": [
       "{'accounts': [{'accountId': 'Z3EAPB',\n",
       "   'accountName': 'CFD',\n",
       "   'accountAlias': None,\n",
       "   'status': 'ENABLED',\n",
       "   'accountType': 'CFD',\n",
       "   'preferred': True,\n",
       "   'balance': {'balance': 9932.1,\n",
       "    'deposit': 5407.18,\n",
       "    'profitLoss': -492.54,\n",
       "    'available': 4032.38},\n",
       "   'currency': 'GBP',\n",
       "   'canTransferFrom': True,\n",
       "   'canTransferTo': True},\n",
       "  {'accountId': 'Z3EAPC',\n",
       "   'accountName': 'Spread bet',\n",
       "   'accountAlias': None,\n",
       "   'status': 'ENABLED',\n",
       "   'accountType': 'SPREADBET',\n",
       "   'preferred': False,\n",
       "   'balance': {'balance': 10005.39,\n",
       "    'deposit': 4565.2,\n",
       "    'profitLoss': 234.15,\n",
       "    'available': 5674.34},\n",
       "   'currency': 'GBP',\n",
       "   'canTransferFrom': True,\n",
       "   'canTransferTo': True}]}"
      ]
     },
     "execution_count": 8,
     "metadata": {},
     "output_type": "execute_result"
    }
   ],
   "source": [
    "client.get_accounts()"
   ]
  },
  {
   "cell_type": "code",
   "execution_count": 7,
   "metadata": {},
   "outputs": [
    {
     "data": {
      "text/plain": [
       "[{'name': 'nixoninnes_key1',\n",
       "  'apiKey': 'ffs i didnt see this here',\n",
       "  'status': 'ENABLED',\n",
       "  'allowanceApplicationOverall': 60,\n",
       "  'allowanceAccountTrading': 100,\n",
       "  'allowanceAccountOverall': 30,\n",
       "  'allowanceAccountHistoricalData': 10000,\n",
       "  'concurrentSubscriptionsLimit': 40,\n",
       "  'allowEquities': False,\n",
       "  'allowQuoteOrders': False,\n",
       "  'createdDate': '2020-05-17'}]"
      ]
     },
     "execution_count": 7,
     "metadata": {},
     "output_type": "execute_result"
    }
   ],
   "source": [
    "client.get_application()"
   ]
  },
  {
   "cell_type": "code",
   "execution_count": 5,
   "metadata": {},
   "outputs": [
    {
     "data": {
      "text/plain": [
       "{'clientSentiments': [{'marketId': 'GBPEUR',\n",
       "   'longPositionPercentage': 71.0,\n",
       "   'shortPositionPercentage': 29.0},\n",
       "  {'marketId': 'GBPUSD',\n",
       "   'longPositionPercentage': 70.0,\n",
       "   'shortPositionPercentage': 30.0}]}"
      ]
     },
     "execution_count": 5,
     "metadata": {},
     "output_type": "execute_result"
    }
   ],
   "source": [
    "client.get_client_sentiment('GBPUSD', 'GBPEUR')"
   ]
  },
  {
   "cell_type": "code",
   "execution_count": 6,
   "metadata": {},
   "outputs": [
    {
     "data": {
      "text/plain": [
       "{'clientSentiments': [{'marketId': 'GC',\n",
       "   'longPositionPercentage': 80.0,\n",
       "   'shortPositionPercentage': 20.0},\n",
       "  {'marketId': 'ETHUSD',\n",
       "   'longPositionPercentage': 83.0,\n",
       "   'shortPositionPercentage': 17.0},\n",
       "  {'marketId': 'CL',\n",
       "   'longPositionPercentage': 78.0,\n",
       "   'shortPositionPercentage': 22.0},\n",
       "  {'marketId': 'WALL',\n",
       "   'longPositionPercentage': 63.0,\n",
       "   'shortPositionPercentage': 37.0},\n",
       "  {'marketId': 'EURUSD',\n",
       "   'longPositionPercentage': 68.0,\n",
       "   'shortPositionPercentage': 32.0}]}"
      ]
     },
     "execution_count": 6,
     "metadata": {},
     "output_type": "execute_result"
    }
   ],
   "source": [
    "client.get_client_sentiment_related('BITCOIN')"
   ]
  },
  {
   "cell_type": "code",
   "execution_count": 7,
   "metadata": {},
   "outputs": [
    {
     "data": {
      "text/plain": [
       "[{'position': {'contractSize': 1.0,\n",
       "   'createdDate': '2020/05/17 04:08:44:000',\n",
       "   'createdDateUTC': '2020-05-17T03:08:44',\n",
       "   'dealId': 'DIAAAADTECPFTBD',\n",
       "   'dealReference': 'RFYD7WJ1E8G9NG1TP',\n",
       "   'size': 1.0,\n",
       "   'direction': 'BUY',\n",
       "   'limitLevel': None,\n",
       "   'level': 9524.2,\n",
       "   'currency': 'USD',\n",
       "   'controlledRisk': False,\n",
       "   'stopLevel': None,\n",
       "   'trailingStep': None,\n",
       "   'trailingStopDistance': None,\n",
       "   'limitedRiskPremium': None},\n",
       "  'market': {'instrumentName': 'Bitcoin ($1)',\n",
       "   'expiry': '-',\n",
       "   'epic': 'CS.D.BITCOIN.CFD.IP',\n",
       "   'instrumentType': 'CURRENCIES',\n",
       "   'lotSize': 1.0,\n",
       "   'high': 9787.5,\n",
       "   'low': 9639.9,\n",
       "   'percentageChange': 0.38,\n",
       "   'netChange': 37.27,\n",
       "   'bid': 9707.88,\n",
       "   'offer': 9743.88,\n",
       "   'updateTime': '00:38:24',\n",
       "   'updateTimeUTC': '23:38:24',\n",
       "   'delayTime': 0,\n",
       "   'streamingPricesAvailable': True,\n",
       "   'marketStatus': 'TRADEABLE',\n",
       "   'scalingFactor': 1},\n",
       "  'profitloss': 183.67999999999847},\n",
       " {'position': {'contractSize': 1.0,\n",
       "   'createdDate': '2020/05/17 04:16:51:000',\n",
       "   'createdDateUTC': '2020-05-17T03:16:51',\n",
       "   'dealId': 'DIAAAADTECGS7AP',\n",
       "   'dealReference': 'RFYD7WJ1E8GA4GC1R',\n",
       "   'size': 1.0,\n",
       "   'direction': 'SELL',\n",
       "   'limitLevel': None,\n",
       "   'level': 200.89,\n",
       "   'currency': 'USD',\n",
       "   'controlledRisk': False,\n",
       "   'stopLevel': None,\n",
       "   'trailingStep': None,\n",
       "   'trailingStopDistance': None,\n",
       "   'limitedRiskPremium': None},\n",
       "  'market': {'instrumentName': 'Ether ($1)',\n",
       "   'expiry': '-',\n",
       "   'epic': 'CS.D.ETHUSD.CFD.IP',\n",
       "   'instrumentType': 'CURRENCIES',\n",
       "   'lotSize': 1.0,\n",
       "   'high': 214.6,\n",
       "   'low': 211.3,\n",
       "   'percentageChange': 0.35,\n",
       "   'netChange': 0.75,\n",
       "   'bid': 212.64,\n",
       "   'offer': 213.84,\n",
       "   'updateTime': '00:38:24',\n",
       "   'updateTimeUTC': '23:38:24',\n",
       "   'delayTime': 0,\n",
       "   'streamingPricesAvailable': True,\n",
       "   'marketStatus': 'TRADEABLE',\n",
       "   'scalingFactor': 1},\n",
       "  'profitloss': -12.950000000000017},\n",
       " {'position': {'contractSize': 1.0,\n",
       "   'createdDate': '2020/05/20 00:31:03:000',\n",
       "   'createdDateUTC': '2020-05-19T23:31:03',\n",
       "   'dealId': 'DIAAAADTT7QCGAS',\n",
       "   'dealReference': '5GKNBD5RVU44TQ',\n",
       "   'size': 0.1,\n",
       "   'direction': 'BUY',\n",
       "   'limitLevel': None,\n",
       "   'level': 9752.71,\n",
       "   'currency': 'USD',\n",
       "   'controlledRisk': False,\n",
       "   'stopLevel': None,\n",
       "   'trailingStep': None,\n",
       "   'trailingStopDistance': None,\n",
       "   'limitedRiskPremium': None},\n",
       "  'market': {'instrumentName': 'Bitcoin ($1)',\n",
       "   'expiry': '-',\n",
       "   'epic': 'CS.D.BITCOIN.CFD.IP',\n",
       "   'instrumentType': 'CURRENCIES',\n",
       "   'lotSize': 1.0,\n",
       "   'high': 9787.5,\n",
       "   'low': 9639.9,\n",
       "   'percentageChange': 0.38,\n",
       "   'netChange': 37.27,\n",
       "   'bid': 9707.88,\n",
       "   'offer': 9743.88,\n",
       "   'updateTime': '00:38:24',\n",
       "   'updateTimeUTC': '23:38:24',\n",
       "   'delayTime': 0,\n",
       "   'streamingPricesAvailable': True,\n",
       "   'marketStatus': 'TRADEABLE',\n",
       "   'scalingFactor': 1},\n",
       "  'profitloss': -44.82999999999993},\n",
       " {'position': {'contractSize': 1.0,\n",
       "   'createdDate': '2020/05/20 00:33:49:000',\n",
       "   'createdDateUTC': '2020-05-19T23:33:49',\n",
       "   'dealId': 'DIAAAADTT7MRFA6',\n",
       "   'dealReference': 'D758C34XAUH44S4',\n",
       "   'size': 0.1,\n",
       "   'direction': 'BUY',\n",
       "   'limitLevel': None,\n",
       "   'level': 9752.8,\n",
       "   'currency': 'USD',\n",
       "   'controlledRisk': False,\n",
       "   'stopLevel': None,\n",
       "   'trailingStep': None,\n",
       "   'trailingStopDistance': None,\n",
       "   'limitedRiskPremium': None},\n",
       "  'market': {'instrumentName': 'Bitcoin ($1)',\n",
       "   'expiry': '-',\n",
       "   'epic': 'CS.D.BITCOIN.CFD.IP',\n",
       "   'instrumentType': 'CURRENCIES',\n",
       "   'lotSize': 1.0,\n",
       "   'high': 9787.5,\n",
       "   'low': 9639.9,\n",
       "   'percentageChange': 0.38,\n",
       "   'netChange': 37.27,\n",
       "   'bid': 9707.88,\n",
       "   'offer': 9743.88,\n",
       "   'updateTime': '00:38:24',\n",
       "   'updateTimeUTC': '23:38:24',\n",
       "   'delayTime': 0,\n",
       "   'streamingPricesAvailable': True,\n",
       "   'marketStatus': 'TRADEABLE',\n",
       "   'scalingFactor': 1},\n",
       "  'profitloss': -44.92000000000007}]"
      ]
     },
     "execution_count": 7,
     "metadata": {},
     "output_type": "execute_result"
    }
   ],
   "source": [
    "client.get_positions_profitloss()"
   ]
  },
  {
   "cell_type": "code",
   "execution_count": 8,
   "metadata": {},
   "outputs": [
    {
     "data": {
      "text/plain": [
       "{'marketDetails': [{'instrument': {'epic': 'CS.D.BITCOIN.CFD.IP',\n",
       "    'expiry': '-',\n",
       "    'name': 'Bitcoin ($1)',\n",
       "    'forceOpenAllowed': True,\n",
       "    'stopsLimitsAllowed': True,\n",
       "    'lotSize': 1.0,\n",
       "    'unit': 'CONTRACTS',\n",
       "    'type': 'CURRENCIES',\n",
       "    'controlledRiskAllowed': True,\n",
       "    'streamingPricesAvailable': True,\n",
       "    'marketId': 'BITCOIN',\n",
       "    'currencies': [{'code': 'USD',\n",
       "      'symbol': '$',\n",
       "      'baseExchangeRate': 1.225678,\n",
       "      'exchangeRate': 0.66,\n",
       "      'isDefault': False}],\n",
       "    'sprintMarketsMinimumExpiryTime': None,\n",
       "    'sprintMarketsMaximumExpiryTime': None,\n",
       "    'marginDepositBands': [{'min': 0,\n",
       "      'max': 13,\n",
       "      'margin': 50,\n",
       "      'currency': 'USD'},\n",
       "     {'min': 13, 'max': 26, 'margin': 50, 'currency': 'USD'},\n",
       "     {'min': 26, 'max': 52, 'margin': 50, 'currency': 'USD'},\n",
       "     {'min': 52, 'max': None, 'margin': 75, 'currency': 'USD'}],\n",
       "    'marginFactor': 50,\n",
       "    'marginFactorUnit': 'PERCENTAGE',\n",
       "    'slippageFactor': {'unit': 'pct', 'value': 100.0},\n",
       "    'limitedRiskPremium': {'value': 45, 'unit': 'POINTS'},\n",
       "    'openingHours': None,\n",
       "    'expiryDetails': None,\n",
       "    'rolloverDetails': None,\n",
       "    'newsCode': 'BTC=',\n",
       "    'chartCode': 'BTC',\n",
       "    'country': None,\n",
       "    'valueOfOnePip': '1.00',\n",
       "    'onePipMeans': '1',\n",
       "    'contractSize': '1',\n",
       "    'specialInfo': ['DEFAULT KNOCK OUT LEVEL DISTANCE',\n",
       "     'MIN KNOCK OUT LEVEL DISTANCE',\n",
       "     'MAX KNOCK OUT LEVEL DISTANCE',\n",
       "     'Daily funding 7 days a week - pay 0.0548% when long, receive 0.0137% when short.',\n",
       "     'There is a limit of £500,000 notional value per client across all cryptocurrencies.',\n",
       "     'Any client with a notional size above this limit is at risk of having their cryptocurrency positions reduced.',\n",
       "     'Quoted 04:00 Sat - 22:00 Fri (UK time)']},\n",
       "   'dealingRules': {'minStepDistance': {'unit': 'POINTS', 'value': 20.0},\n",
       "    'minDealSize': {'unit': 'POINTS', 'value': 0.001},\n",
       "    'minControlledRiskStopDistance': {'unit': 'PERCENTAGE', 'value': 10.0},\n",
       "    'minNormalStopOrLimitDistance': {'unit': 'PERCENTAGE', 'value': 1.0},\n",
       "    'maxStopOrLimitDistance': {'unit': 'PERCENTAGE', 'value': 75.0},\n",
       "    'marketOrderPreference': 'AVAILABLE_DEFAULT_OFF',\n",
       "    'trailingStopsPreference': 'AVAILABLE'},\n",
       "   'snapshot': {'marketStatus': 'TRADEABLE',\n",
       "    'netChange': 37.27,\n",
       "    'percentageChange': 0.38,\n",
       "    'updateTime': '23:38:24',\n",
       "    'delayTime': 0,\n",
       "    'bid': 9707.88,\n",
       "    'offer': 9743.88,\n",
       "    'high': 9787.5,\n",
       "    'low': 9639.9,\n",
       "    'binaryOdds': None,\n",
       "    'decimalPlacesFactor': 2,\n",
       "    'scalingFactor': 1,\n",
       "    'controlledRiskExtraSpread': 300}},\n",
       "  {'instrument': {'epic': 'CS.D.ETHUSD.CFD.IP',\n",
       "    'expiry': '-',\n",
       "    'name': 'Ether ($1)',\n",
       "    'forceOpenAllowed': True,\n",
       "    'stopsLimitsAllowed': True,\n",
       "    'lotSize': 1.0,\n",
       "    'unit': 'CONTRACTS',\n",
       "    'type': 'CURRENCIES',\n",
       "    'controlledRiskAllowed': True,\n",
       "    'streamingPricesAvailable': True,\n",
       "    'marketId': 'ETHUSD',\n",
       "    'currencies': [{'code': 'USD',\n",
       "      'symbol': '$',\n",
       "      'baseExchangeRate': 1.225678,\n",
       "      'exchangeRate': 0.66,\n",
       "      'isDefault': False}],\n",
       "    'sprintMarketsMinimumExpiryTime': None,\n",
       "    'sprintMarketsMaximumExpiryTime': None,\n",
       "    'marginDepositBands': [{'min': 0,\n",
       "      'max': 457,\n",
       "      'margin': 50,\n",
       "      'currency': 'USD'},\n",
       "     {'min': 457, 'max': 914, 'margin': 50, 'currency': 'USD'},\n",
       "     {'min': 914, 'max': 1828, 'margin': 50, 'currency': 'USD'},\n",
       "     {'min': 1828, 'max': None, 'margin': 75, 'currency': 'USD'}],\n",
       "    'marginFactor': 50,\n",
       "    'marginFactorUnit': 'PERCENTAGE',\n",
       "    'slippageFactor': {'unit': 'pct', 'value': 100.0},\n",
       "    'limitedRiskPremium': {'value': 0.9, 'unit': 'POINTS'},\n",
       "    'openingHours': None,\n",
       "    'expiryDetails': None,\n",
       "    'rolloverDetails': None,\n",
       "    'newsCode': 'ETH=',\n",
       "    'chartCode': 'ETH',\n",
       "    'country': None,\n",
       "    'valueOfOnePip': '1.00',\n",
       "    'onePipMeans': '1',\n",
       "    'contractSize': '1',\n",
       "    'specialInfo': ['DEFAULT KNOCK OUT LEVEL DISTANCE',\n",
       "     'MIN KNOCK OUT LEVEL DISTANCE',\n",
       "     'MAX KNOCK OUT LEVEL DISTANCE',\n",
       "     'Daily funding 7 days a week - pay 0.0753% when long, receive 0.0342% when short.',\n",
       "     'There is a limit of £500,000 notional value per client across all cryptocurrencies.',\n",
       "     'Any client with a notional size above this limit is at risk of having their cryptocurrency positions reduced.',\n",
       "     'Quoted 04:00 Sat - 22:00 Fri (UK time)']},\n",
       "   'dealingRules': {'minStepDistance': {'unit': 'POINTS', 'value': 10.0},\n",
       "    'minDealSize': {'unit': 'POINTS', 'value': 0.0001},\n",
       "    'minControlledRiskStopDistance': {'unit': 'PERCENTAGE', 'value': 10.0},\n",
       "    'minNormalStopOrLimitDistance': {'unit': 'PERCENTAGE', 'value': 1.0},\n",
       "    'maxStopOrLimitDistance': {'unit': 'PERCENTAGE', 'value': 90.0},\n",
       "    'marketOrderPreference': 'AVAILABLE_DEFAULT_OFF',\n",
       "    'trailingStopsPreference': 'AVAILABLE'},\n",
       "   'snapshot': {'marketStatus': 'TRADEABLE',\n",
       "    'netChange': 0.76,\n",
       "    'percentageChange': 0.36,\n",
       "    'updateTime': '23:38:24',\n",
       "    'delayTime': 0,\n",
       "    'bid': 212.65,\n",
       "    'offer': 213.85,\n",
       "    'high': 214.6,\n",
       "    'low': 211.3,\n",
       "    'binaryOdds': None,\n",
       "    'decimalPlacesFactor': 2,\n",
       "    'scalingFactor': 1,\n",
       "    'controlledRiskExtraSpread': 3}}]}"
      ]
     },
     "execution_count": 8,
     "metadata": {},
     "output_type": "execute_result"
    }
   ],
   "source": [
    "client.get_markets('CS.D.BITCOIN.CFD.IP', 'CS.D.ETHUSD.CFD.IP')"
   ]
  },
  {
   "cell_type": "code",
   "execution_count": 9,
   "metadata": {},
   "outputs": [
    {
     "data": {
      "text/plain": [
       "{'dealReference': 'V42ASLQC33A44S4'}"
      ]
     },
     "execution_count": 9,
     "metadata": {},
     "output_type": "execute_result"
    }
   ],
   "source": [
    "client.add_position('BUY', 'MARKET', 'CS.D.BITCOIN.CFD.IP', 0.1, 'USD')"
   ]
  },
  {
   "cell_type": "code",
   "execution_count": 10,
   "metadata": {},
   "outputs": [
    {
     "data": {
      "text/plain": [
       "{'epic': 'CS.D.BITCOIN.CFD.IP',\n",
       " 'dealId': 'DIAAAADTT72A2BC',\n",
       " 'activityHistoryId': '1099115045',\n",
       " 'date': '2020-05-19T23:37:00',\n",
       " 'activity': 'OTO',\n",
       " 'marketName': 'Bitcoin ($1)',\n",
       " 'period': '-',\n",
       " 'result': 'Order deleted: TT7WUDBB',\n",
       " 'channel': 'API',\n",
       " 'currency': '$',\n",
       " 'size': '+1',\n",
       " 'level': '11500',\n",
       " 'stop': '-',\n",
       " 'stopType': '-',\n",
       " 'limit': '-',\n",
       " 'actionStatus': 'ACCEPT'}"
      ]
     },
     "execution_count": 10,
     "metadata": {},
     "output_type": "execute_result"
    }
   ],
   "source": [
    "client.get_last_activity()"
   ]
  },
  {
   "cell_type": "code",
   "execution_count": 11,
   "metadata": {},
   "outputs": [
    {
     "data": {
      "text/plain": [
       "{'workingOrders': [{'workingOrderData': {'dealId': 'DIAAAADTT8FFYAJ',\n",
       "    'direction': 'BUY',\n",
       "    'epic': 'CS.D.BITCOIN.CFD.IP',\n",
       "    'orderSize': 0.1,\n",
       "    'orderLevel': 11500.0,\n",
       "    'timeInForce': 'GOOD_TILL_CANCELLED',\n",
       "    'goodTillDate': None,\n",
       "    'goodTillDateISO': None,\n",
       "    'createdDate': '2020/05/20 00:35:24:000',\n",
       "    'createdDateUTC': '2020-05-19T23:35:24',\n",
       "    'guaranteedStop': False,\n",
       "    'orderType': 'STOP',\n",
       "    'stopDistance': None,\n",
       "    'limitDistance': None,\n",
       "    'currencyCode': 'USD',\n",
       "    'dma': False,\n",
       "    'limitedRiskPremium': None},\n",
       "   'marketData': {'instrumentName': 'Bitcoin ($1)',\n",
       "    'exchangeId': 'FX_CRYPTO_AL',\n",
       "    'expiry': '-',\n",
       "    'marketStatus': 'TRADEABLE',\n",
       "    'epic': 'CS.D.BITCOIN.CFD.IP',\n",
       "    'instrumentType': 'CURRENCIES',\n",
       "    'lotSize': 1.0,\n",
       "    'high': 9787.5,\n",
       "    'low': 9639.9,\n",
       "    'percentageChange': 0.38,\n",
       "    'netChange': 37.27,\n",
       "    'bid': 9707.88,\n",
       "    'offer': 9743.88,\n",
       "    'updateTime': '00:38:25',\n",
       "    'updateTimeUTC': '23:38:25',\n",
       "    'delayTime': 0,\n",
       "    'streamingPricesAvailable': True,\n",
       "    'scalingFactor': 1}}]}"
      ]
     },
     "execution_count": 11,
     "metadata": {},
     "output_type": "execute_result"
    }
   ],
   "source": [
    "client.get_working_orders()"
   ]
  },
  {
   "cell_type": "code",
   "execution_count": 12,
   "metadata": {},
   "outputs": [
    {
     "data": {
      "text/plain": [
       "{'dealReference': 'NQJQ58ES96Y44TE'}"
      ]
     },
     "execution_count": 12,
     "metadata": {},
     "output_type": "execute_result"
    }
   ],
   "source": [
    "client.add_working_order('BUY', 'STOP', 'CS.D.BITCOIN.CFD.IP', 0.1, 'USD', 12000)"
   ]
  },
  {
   "cell_type": "code",
   "execution_count": 13,
   "metadata": {},
   "outputs": [
    {
     "data": {
      "text/plain": [
       "{'epic': 'CS.D.BITCOIN.CFD.IP',\n",
       " 'dealId': 'DIAAAADTT8KA3A6',\n",
       " 'activityHistoryId': '1099115121',\n",
       " 'date': '2020-05-19T23:38:00',\n",
       " 'activity': 'Market Order',\n",
       " 'marketName': 'Bitcoin ($1)',\n",
       " 'period': '-',\n",
       " 'result': 'Position opened: TT8KA3A6',\n",
       " 'channel': 'API',\n",
       " 'currency': '$',\n",
       " 'size': '+0.10',\n",
       " 'level': '9743.95',\n",
       " 'stop': '-',\n",
       " 'stopType': '-',\n",
       " 'limit': '-',\n",
       " 'actionStatus': 'ACCEPT'}"
      ]
     },
     "execution_count": 13,
     "metadata": {},
     "output_type": "execute_result"
    }
   ],
   "source": [
    "client.get_last_activity()"
   ]
  },
  {
   "cell_type": "code",
   "execution_count": 14,
   "metadata": {},
   "outputs": [
    {
     "data": {
      "text/plain": [
       "{'workingOrders': [{'workingOrderData': {'dealId': 'DIAAAADTT8FFYAJ',\n",
       "    'direction': 'BUY',\n",
       "    'epic': 'CS.D.BITCOIN.CFD.IP',\n",
       "    'orderSize': 0.1,\n",
       "    'orderLevel': 11500.0,\n",
       "    'timeInForce': 'GOOD_TILL_CANCELLED',\n",
       "    'goodTillDate': None,\n",
       "    'goodTillDateISO': None,\n",
       "    'createdDate': '2020/05/20 00:35:24:000',\n",
       "    'createdDateUTC': '2020-05-19T23:35:24',\n",
       "    'guaranteedStop': False,\n",
       "    'orderType': 'STOP',\n",
       "    'stopDistance': None,\n",
       "    'limitDistance': None,\n",
       "    'currencyCode': 'USD',\n",
       "    'dma': False,\n",
       "    'limitedRiskPremium': None},\n",
       "   'marketData': {'instrumentName': 'Bitcoin ($1)',\n",
       "    'exchangeId': 'FX_CRYPTO_AL',\n",
       "    'expiry': '-',\n",
       "    'marketStatus': 'TRADEABLE',\n",
       "    'epic': 'CS.D.BITCOIN.CFD.IP',\n",
       "    'instrumentType': 'CURRENCIES',\n",
       "    'lotSize': 1.0,\n",
       "    'high': 9787.5,\n",
       "    'low': 9639.9,\n",
       "    'percentageChange': 0.38,\n",
       "    'netChange': 37.27,\n",
       "    'bid': 9707.88,\n",
       "    'offer': 9743.88,\n",
       "    'updateTime': '00:38:25',\n",
       "    'updateTimeUTC': '23:38:25',\n",
       "    'delayTime': 0,\n",
       "    'streamingPricesAvailable': True,\n",
       "    'scalingFactor': 1}},\n",
       "  {'workingOrderData': {'dealId': 'DIAAAADTT7KSPA8',\n",
       "    'direction': 'BUY',\n",
       "    'epic': 'CS.D.BITCOIN.CFD.IP',\n",
       "    'orderSize': 0.1,\n",
       "    'orderLevel': 12000.0,\n",
       "    'timeInForce': 'GOOD_TILL_CANCELLED',\n",
       "    'goodTillDate': None,\n",
       "    'goodTillDateISO': None,\n",
       "    'createdDate': '2020/05/20 00:38:25:000',\n",
       "    'createdDateUTC': '2020-05-19T23:38:25',\n",
       "    'guaranteedStop': False,\n",
       "    'orderType': 'STOP',\n",
       "    'stopDistance': None,\n",
       "    'limitDistance': None,\n",
       "    'currencyCode': 'USD',\n",
       "    'dma': False,\n",
       "    'limitedRiskPremium': None},\n",
       "   'marketData': {'instrumentName': 'Bitcoin ($1)',\n",
       "    'exchangeId': 'FX_CRYPTO_AL',\n",
       "    'expiry': '-',\n",
       "    'marketStatus': 'TRADEABLE',\n",
       "    'epic': 'CS.D.BITCOIN.CFD.IP',\n",
       "    'instrumentType': 'CURRENCIES',\n",
       "    'lotSize': 1.0,\n",
       "    'high': 9787.5,\n",
       "    'low': 9639.9,\n",
       "    'percentageChange': 0.38,\n",
       "    'netChange': 37.27,\n",
       "    'bid': 9707.88,\n",
       "    'offer': 9743.88,\n",
       "    'updateTime': '00:38:25',\n",
       "    'updateTimeUTC': '23:38:25',\n",
       "    'delayTime': 0,\n",
       "    'streamingPricesAvailable': True,\n",
       "    'scalingFactor': 1}}]}"
      ]
     },
     "execution_count": 14,
     "metadata": {},
     "output_type": "execute_result"
    }
   ],
   "source": [
    "wos = client.get_working_orders()\n",
    "\n",
    "try:\n",
    "    wos_last = wos['workingOrders'][-1]['workingOrderData']\n",
    "except IndexError:\n",
    "    pass\n",
    "\n",
    "wos"
   ]
  },
  {
   "cell_type": "code",
   "execution_count": 15,
   "metadata": {},
   "outputs": [
    {
     "data": {
      "text/plain": [
       "{'dealReference': 'Q7MDVPLF4G844TQ'}"
      ]
     },
     "execution_count": 15,
     "metadata": {},
     "output_type": "execute_result"
    }
   ],
   "source": [
    "client.edit_working_order(wos_last['dealId'], 'STOP', 11500)"
   ]
  },
  {
   "cell_type": "code",
   "execution_count": 16,
   "metadata": {},
   "outputs": [
    {
     "data": {
      "text/plain": [
       "{'epic': 'CS.D.BITCOIN.CFD.IP',\n",
       " 'dealId': 'DIAAAADTT8Q9SBB',\n",
       " 'activityHistoryId': '1099115125',\n",
       " 'date': '2020-05-19T23:38:00',\n",
       " 'activity': 'OTO',\n",
       " 'marketName': 'Bitcoin ($1)',\n",
       " 'period': '-',\n",
       " 'result': 'Stop order amended: TT7KSPA8; Good till cancelled',\n",
       " 'channel': 'API',\n",
       " 'currency': '$',\n",
       " 'size': '+0.10',\n",
       " 'level': '11500',\n",
       " 'stop': '-',\n",
       " 'stopType': '-',\n",
       " 'limit': '-',\n",
       " 'actionStatus': 'ACCEPT'}"
      ]
     },
     "execution_count": 16,
     "metadata": {},
     "output_type": "execute_result"
    }
   ],
   "source": [
    "client.get_last_activity()"
   ]
  },
  {
   "cell_type": "code",
   "execution_count": 18,
   "metadata": {},
   "outputs": [
    {
     "data": {
      "text/plain": [
       "{'dealReference': 'Q7MDVPLF4G844TQ'}"
      ]
     },
     "execution_count": 18,
     "metadata": {},
     "output_type": "execute_result"
    }
   ],
   "source": [
    "client.delete_working_order(wos_last['dealId'])"
   ]
  },
  {
   "cell_type": "code",
   "execution_count": null,
   "metadata": {},
   "outputs": [],
   "source": []
  }
 ],
 "metadata": {
  "kernelspec": {
   "display_name": "Python 3",
   "language": "python",
   "name": "python3"
  },
  "language_info": {
   "codemirror_mode": {
    "name": "ipython",
    "version": 3
   },
   "file_extension": ".py",
   "mimetype": "text/x-python",
   "name": "python",
   "nbconvert_exporter": "python",
   "pygments_lexer": "ipython3",
   "version": "3.8.2"
  }
 },
 "nbformat": 4,
 "nbformat_minor": 4
}
